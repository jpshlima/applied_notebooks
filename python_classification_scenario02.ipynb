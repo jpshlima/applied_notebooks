{
 "cells": [
  {
   "cell_type": "markdown",
   "metadata": {},
   "source": [
    "Now, we run the codes for classification methods in Scenario 02 (with shadowing effects)."
   ]
  },
  {
   "cell_type": "code",
   "execution_count": 2,
   "metadata": {},
   "outputs": [],
   "source": [
    "# Let us make the imports for the entire code\n",
    "\n",
    "import pandas as pd\n",
    "import numpy as np\n",
    "import matplotlib.pyplot as plt\n",
    "from sklearn.preprocessing import StandardScaler\n",
    "from sklearn.model_selection import StratifiedKFold\n",
    "from sklearn.metrics import accuracy_score, confusion_matrix\n",
    "import time\n",
    "# Enable to start counting processing time\n",
    "# start = time.time()\n",
    "\n",
    "def best_output(row):\n",
    "    # if downloadTime is different than 100 for T2 and T3, both have completed the download\n",
    "    if ((row.downloadTimeT2!=100)&(row.downloadTimeT3!=100)):\n",
    "        # the best output has smaller downloadTime\n",
    "        if (row.downloadTimeT2<=row.downloadTimeT3):\n",
    "            return 2\n",
    "        else:\n",
    "            return 1\n",
    "\n",
    "    # if downloadTime is different than 100 for only one target, only one completes the download\n",
    "    elif ((row.downloadTimeT2!=100)|(row.downloadTimeT3!=100)):\n",
    "        # the best output has downloadTime other than 100 (completed download before simulation time ends)\n",
    "        if (row.downloadTimeT2!=100):\n",
    "            return 2\n",
    "        else:\n",
    "            return 1\n",
    "\n",
    "    # if downloadTime = 100 for both T2 and T3, both targets does not complete download\n",
    "    elif ((row.downloadTimeT2==100)&(row.downloadTimeT3==100)):\n",
    "        # the best output has greater rxBytes\n",
    "        if (row.rxBytesT2>=row.rxBytesT3):\n",
    "            return 2\n",
    "        else:\n",
    "            return 1"
   ]
  },
  {
   "cell_type": "code",
   "execution_count": 3,
   "metadata": {},
   "outputs": [],
   "source": [
    "# Here we read and organize CSV data\n",
    "\n",
    "t2 = pd.read_csv('t2_OhBuildings_ComShadowing_Modificado', delimiter='\\t')\n",
    "t3 = pd.read_csv('t3_OhBuildings_ComShadowing_Modificado', delimiter='\\t')\n",
    "\n",
    "t2 = t2[t2.nRun.isin(t3.nRun)]\n",
    "t2.reset_index(drop=True, inplace=True)\n",
    "t3 = t3[t3.nRun.isin(t2.nRun)]\n",
    "t3.reset_index(drop=True, inplace=True)\n",
    "\n",
    "a3rsrp = pd.read_csv('A3RSRP_OhBuildings_ComShadowing_Modificado', delimiter='\\t')\n",
    "a2a4rsrq = pd.read_csv('A2A4RSRQ_OhBuildings_ComShadowing_Modificado', delimiter='\\t')\n",
    "\n",
    "\n",
    "# Guarantee that we utilize only seeds present in both datasets\n",
    "t2_runs = t2.nRun\n",
    "t3_runs = t3.nRun\n",
    "a3rsrp_runs = a3rsrp.nRun\n",
    "a2a4rsrq_runs = a2a4rsrq.nRun\n",
    "valid_results = t2[t2.rsrp1==t3.rsrp1].nRun\n",
    "valid_runs = set(t2_runs).intersection(t3_runs).intersection(a3rsrp_runs).intersection(a2a4rsrq_runs).intersection(valid_results)\n",
    "\n",
    "t2 = t2[t2.nRun.isin(valid_runs)]\n",
    "t3 = t3[t3.nRun.isin(valid_runs)]\n",
    "a3rsrp = a3rsrp[a3rsrp.nRun.isin(valid_runs)]\n",
    "a2a4rsrq = a2a4rsrq[a2a4rsrq.nRun.isin(valid_runs)]\n",
    "\n",
    "t2.reset_index(drop=True, inplace=True)\n",
    "t3.reset_index(drop=True, inplace=True)\n",
    "a3rsrp.reset_index(drop=True, inplace=True)\n",
    "a2a4rsrq.reset_index(drop=True, inplace=True)\n",
    "\n",
    "# Combining datasets\n",
    "data = t2\n",
    "data = data.drop(['targetCellId', 'downloadTime', 'rxBytes'], axis=1)\n",
    "data['downloadTimeT2'] = t2.downloadTime\n",
    "data['downloadTimeT3'] = t3.downloadTime\n",
    "data['rxBytesT2'] = t2.rxBytes\n",
    "data['rxBytesT3'] = t3.rxBytes"
   ]
  },
  {
   "cell_type": "code",
   "execution_count": 4,
   "metadata": {},
   "outputs": [],
   "source": [
    "# Data Pre-processing\n",
    "\n",
    "# Applies our function defined above to obtain the best output\n",
    "data['best_output'] = data.apply(best_output, axis=1)\n",
    "\n",
    "# Sets data as inputs and labels\n",
    "previsores = data[['rsrp1','rsrq1','rsrp2','rsrq2','rsrp3','rsrq3','previousrsrp1','previousrsrq1','previousrsrp2','previousrsrq2','previousrsrp3','previousrsrq3']]\n",
    "previsores = previsores.values\n",
    "label = data['best_output']\n",
    "label = label.values\n",
    "\n",
    "# Scaling data\n",
    "scaler = StandardScaler()\n",
    "previsores = scaler.fit_transform(previsores)"
   ]
  },
  {
   "cell_type": "code",
   "execution_count": 5,
   "metadata": {},
   "outputs": [
    {
     "data": {
      "text/plain": [
       "0.6805922361763184"
      ]
     },
     "execution_count": 5,
     "metadata": {},
     "output_type": "execute_result"
    }
   ],
   "source": [
    "# Now we load our classifier, execute k-Fold, train and test our algorithm\n",
    "\n",
    "# ALMMo\n",
    "from ALMMo0_System import ALMMo0classifier_testing\n",
    "from ALMMo0_System import ALMMo0classifier_learning\n",
    "\n",
    "# Applies StratifiedKFold with k = 5 and repeats process 33 times for statistical robustness\n",
    "resultados33 = []\n",
    "\n",
    "for i in range(33):\n",
    "    kfold = StratifiedKFold(n_splits = 5, shuffle = True, random_state = i)\n",
    "    resultados1 = []\n",
    "    matriz1 = [] # confusion matrix\n",
    "    for n_train, n_test in kfold.split(previsores, np.zeros(shape=(previsores.shape[0], 1))):\n",
    "        # Train the ALMMo-0 classifier\n",
    "        SystemParameters=ALMMo0classifier_learning(previsores[n_train], label[n_train])\n",
    "         # Conduct classification with the pretrained classifier\n",
    "        TestLabel=ALMMo0classifier_testing(previsores[n_test],SystemParameters)\n",
    "        # Accuracy check\n",
    "        precisao = accuracy_score(label[n_test], TestLabel)\n",
    "        matriz1.append(confusion_matrix(label[n_test], TestLabel))\n",
    "        resultados1.append(precisao)\n",
    "    # Appending all the steps\n",
    "    resultados1 = np.asarray(resultados1)\n",
    "    media = resultados1.mean()\n",
    "    resultados33.append(media)\n",
    "    matriz_final = np.mean(matriz1, axis = 0)\n",
    "# Final results\n",
    "resultados33 = np.asarray(resultados33)\n",
    "\n",
    "# Enable to obtain processing time\n",
    "# end = time.time()\n",
    "# tempo = end - start\n",
    "\n",
    "# Enable to display classification mean and standard deviation\n",
    "resultados33.mean()\n",
    "# resultados33.std()"
   ]
  },
  {
   "cell_type": "code",
   "execution_count": 8,
   "metadata": {},
   "outputs": [
    {
     "data": {
      "text/plain": [
       "0.8634147338897019"
      ]
     },
     "execution_count": 8,
     "metadata": {},
     "output_type": "execute_result"
    }
   ],
   "source": [
    "# SVM classifier\n",
    "from sklearn.svm import SVC\n",
    "\n",
    "# Applies StratifiedKFold with k = 5 and repeats process 33 times for statistical robustness\n",
    "resultados33 = []\n",
    "\n",
    "# 33-time loop\n",
    "for i in range(33):\n",
    "    kfold = StratifiedKFold(n_splits = 5, shuffle = True, random_state = i)\n",
    "    resultados1 = []\n",
    "    matriz1 = []\n",
    "    # k-Fold loop\n",
    "    for n_train, n_test in kfold.split(previsores, np.zeros(shape=(previsores.shape[0], 1))):\n",
    "        svm = SVC(kernel = 'linear', C = 100.0)\n",
    "        # Training model\n",
    "        svm.fit(previsores[n_train], label[n_train])\n",
    "        # Predicting\n",
    "        previsoes = svm.predict(previsores[n_test])\n",
    "        # Accuracy check\n",
    "        precisao = accuracy_score(label[n_test], previsoes)\n",
    "        matriz1.append(confusion_matrix(label[n_test], previsoes))\n",
    "        resultados1.append(precisao)\n",
    "    # Appending all the steps\n",
    "    resultados1 = np.asarray(resultados1)\n",
    "    media = resultados1.mean()\n",
    "    resultados33.append(media)\n",
    "    matriz_final = np.mean(matriz1, axis = 0)\n",
    "# Final results\n",
    "resultados33 = np.asarray(resultados33)\n",
    "\n",
    "# Enable to obtain processing time\n",
    "# end = time.time()\n",
    "# tempo = end - start\n",
    "\n",
    "# Enable to display classification mean and standard deviation\n",
    "resultados33.mean()\n",
    "# resultados33.std()"
   ]
  },
  {
   "cell_type": "code",
   "execution_count": 7,
   "metadata": {},
   "outputs": [
    {
     "data": {
      "text/plain": [
       "0.8632158456291961"
      ]
     },
     "execution_count": 7,
     "metadata": {},
     "output_type": "execute_result"
    }
   ],
   "source": [
    "# MLP classifier\n",
    "from sklearn.neural_network import MLPClassifier\n",
    "\n",
    "# Applies StratifiedKFold with k = 5 and repeats process 33 times for statistical robustness\n",
    "resultados33 = []\n",
    "\n",
    "# 33-time loop\n",
    "for i in range(33):\n",
    "    kfold = StratifiedKFold(n_splits = 5, shuffle = True, random_state = i)\n",
    "    resultados1 = []\n",
    "    matriz1 = []\n",
    "    # k-Fold loop\n",
    "    for n_train, n_test in kfold.split(previsores, np.zeros(shape=(previsores.shape[0], 1))):\n",
    "        nn3 = MLPClassifier(solver='lbfgs', hidden_layer_sizes = 6)\n",
    "        # Training model\n",
    "        nn3.fit(previsores[n_train], label[n_train])\n",
    "        # Predicting\n",
    "        previsoes = nn3.predict(previsores[n_test])\n",
    "        # Accuracy check\n",
    "        precisao = accuracy_score(label[n_test], previsoes)\n",
    "        matriz1.append(confusion_matrix(label[n_test], previsoes))\n",
    "        resultados1.append(precisao)\n",
    "    # Appending all the steps\n",
    "    resultados1 = np.asarray(resultados1)\n",
    "    media = resultados1.mean()\n",
    "    resultados33.append(media)\n",
    "    matriz_final = np.mean(matriz1, axis = 0)\n",
    "# Final results\n",
    "resultados33 = np.asarray(resultados33)\n",
    "\n",
    "# Enable to obtain processing time\n",
    "# end = time.time()\n",
    "# tempo = end - start\n",
    "\n",
    "# Enable to display classification mean and standard deviation\n",
    "resultados33.mean()\n",
    "# resultados33.std()"
   ]
  },
  {
   "cell_type": "code",
   "execution_count": null,
   "metadata": {},
   "outputs": [],
   "source": []
  }
 ],
 "metadata": {
  "kernelspec": {
   "display_name": "Python 3",
   "language": "python",
   "name": "python3"
  },
  "language_info": {
   "codemirror_mode": {
    "name": "ipython",
    "version": 3
   },
   "file_extension": ".py",
   "mimetype": "text/x-python",
   "name": "python",
   "nbconvert_exporter": "python",
   "pygments_lexer": "ipython3",
   "version": "3.7.0"
  }
 },
 "nbformat": 4,
 "nbformat_minor": 2
}
