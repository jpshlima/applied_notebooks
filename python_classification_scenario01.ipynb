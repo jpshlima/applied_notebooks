{
 "cells": [
  {
   "cell_type": "markdown",
   "metadata": {},
   "source": [
    "Here we find the Python scripts used in paper 'User-level Handover Decision Making Based on Machine Learning' written by João PSH Lima et al. The intention is to apply classification algorithms to indicate the best handover target in a LTE cells urban environment. Additionally, we also apply regression algorithms to estimate file download time and percentage, so that handover decision making is based upon richer information conditions and network designers may have enhanced performance. First, we consider Scenario 1, without shadowing effects.\n",
    "\n",
    "The classification methods used in this comparison are:\n",
    "\n",
    "- SOFL\n",
    "- ALMMo\n",
    "- T2\n",
    "- SVM\n",
    "- MLP"
   ]
  },
  {
   "cell_type": "markdown",
   "metadata": {},
   "source": [
    "The classification of the best handover target is based upon 3 rules, which are:\n",
    "\n",
    "- The best handover target is the one that completes the download;\n",
    "- If both eNBs are able to complete the download (download time < simulation time), the best is the one that does it faster;\n",
    "- If both eNBs are not able to complete the download (download time = simulation time), the best target is the one that downloaded more bytes from file.\n",
    "\n",
    "These rules are expressed in function below:"
   ]
  },
  {
   "cell_type": "code",
   "execution_count": 4,
   "metadata": {},
   "outputs": [],
   "source": [
    "# Let us make the imports for the entire code\n",
    "\n",
    "import pandas as pd\n",
    "import numpy as np\n",
    "import matplotlib.pyplot as plt\n",
    "from sklearn.preprocessing import StandardScaler\n",
    "from sklearn.model_selection import StratifiedKFold\n",
    "from sklearn.metrics import accuracy_score, confusion_matrix\n",
    "import time\n",
    "# Enable to start counting processing time\n",
    "# start = time.time()\n",
    "\n",
    "def best_output(row):\n",
    "    # if downloadTime is different than 100 for T2 and T3, both have completed the download\n",
    "    if ((row.downloadTimeT2!=100)&(row.downloadTimeT3!=100)):\n",
    "        # the best output has smaller downloadTime\n",
    "        if (row.downloadTimeT2<=row.downloadTimeT3):\n",
    "            return 2\n",
    "        else:\n",
    "            return 1\n",
    "\n",
    "    # if downloadTime is different than 100 for only one target, only one completes the download\n",
    "    elif ((row.downloadTimeT2!=100)|(row.downloadTimeT3!=100)):\n",
    "        # the best output has downloadTime other than 100 (completed download before simulation time ends)\n",
    "        if (row.downloadTimeT2!=100):\n",
    "            return 2\n",
    "        else:\n",
    "            return 1\n",
    "\n",
    "    # if downloadTime = 100 for both T2 and T3, both targets does not complete download\n",
    "    elif ((row.downloadTimeT2==100)&(row.downloadTimeT3==100)):\n",
    "        # the best output has greater rxBytes\n",
    "        if (row.rxBytesT2>=row.rxBytesT3):\n",
    "            return 2\n",
    "        else:\n",
    "            return 1"
   ]
  },
  {
   "cell_type": "code",
   "execution_count": 6,
   "metadata": {},
   "outputs": [],
   "source": [
    "# Here we read and organize CSV data\n",
    "\n",
    "t2 = pd.read_csv('t2_OkumuraHata_Modificado', delimiter='\\t')\n",
    "t3 = pd.read_csv('t3_OkumuraHata_Modificado', delimiter='\\t')\n",
    "\n",
    "# Guarantee that we utilize only seeds present in both datasets\n",
    "t2 = t2[t2.nRun.isin(t3.nRun)]\n",
    "t3 = t3[t3.nRun.isin(t2.nRun)]\n",
    "t2 = t2.reset_index(drop=True)\n",
    "t3 = t3.reset_index(drop=True)\n",
    "\n",
    "# Combining datasets\n",
    "data = t2\n",
    "data = data.drop(['targetCellId', 'downloadTime', 'rxBytes'], axis=1)\n",
    "data['downloadTimeT2'] = t2.downloadTime\n",
    "data['downloadTimeT3'] = t3.downloadTime\n",
    "data['rxBytesT2'] = t2.rxBytes\n",
    "data['rxBytesT3'] = t3.rxBytes"
   ]
  },
  {
   "cell_type": "code",
   "execution_count": 7,
   "metadata": {},
   "outputs": [],
   "source": [
    "# Data Pre-processing\n",
    "\n",
    "# Applies our function defined above to obtain the best output\n",
    "data['best_output'] = data.apply(best_output, axis=1)\n",
    "\n",
    "# Sets data as inputs and labels\n",
    "previsores = data[['rsrp1','rsrq1','rsrp2','rsrq2','rsrp3','rsrq3','previousrsrp1','previousrsrq1','previousrsrp2','previousrsrq2','previousrsrp3','previousrsrq3']]\n",
    "previsores = previsores.values\n",
    "label = data['best_output']\n",
    "label = label.values\n",
    "\n",
    "# Scaling data\n",
    "scaler = StandardScaler()\n",
    "previsores = scaler.fit_transform(previsores)"
   ]
  },
  {
   "cell_type": "code",
   "execution_count": 15,
   "metadata": {},
   "outputs": [
    {
     "data": {
      "text/plain": [
       "0.9960606060606062"
      ]
     },
     "execution_count": 15,
     "metadata": {},
     "output_type": "execute_result"
    }
   ],
   "source": [
    "# Now we load our classifier, execute k-Fold, train and test our algorithm\n",
    "\n",
    "# ALMMo\n",
    "from ALMMo0_System import ALMMo0classifier_testing\n",
    "from ALMMo0_System import ALMMo0classifier_learning\n",
    "\n",
    "# Applies StratifiedKFold with k = 5 and repeats process 33 times for statistical robustness\n",
    "resultados33 = []\n",
    "\n",
    "for i in range(33):\n",
    "    kfold = StratifiedKFold(n_splits = 5, shuffle = True, random_state = i)\n",
    "    resultados1 = []\n",
    "    matriz1 = [] # confusion matrix\n",
    "    for n_train, n_test in kfold.split(previsores, np.zeros(shape=(previsores.shape[0], 1))):\n",
    "        # Train the ALMMo-0 classifier\n",
    "        SystemParameters=ALMMo0classifier_learning(previsores[n_train], label[n_train])\n",
    "         # Conduct classification with the pretrained classifier\n",
    "        TestLabel=ALMMo0classifier_testing(previsores[n_test],SystemParameters)\n",
    "        # Accuracy check\n",
    "        precisao = accuracy_score(label[n_test], TestLabel)\n",
    "        matriz1.append(confusion_matrix(label[n_test], TestLabel))\n",
    "        resultados1.append(precisao)\n",
    "    # Appending all the steps\n",
    "    resultados1 = np.asarray(resultados1)\n",
    "    media = resultados1.mean()\n",
    "    resultados33.append(media)\n",
    "    matriz_final = np.mean(matriz1, axis = 0)\n",
    "# Final results\n",
    "resultados33 = np.asarray(resultados33)\n",
    "\n",
    "# Enable to obtain processing time\n",
    "# end = time.time()\n",
    "# tempo = end - start\n",
    "\n",
    "# Enable to display classification mean and standard deviation\n",
    "resultados33.mean()\n",
    "# resultados33.std()"
   ]
  },
  {
   "cell_type": "code",
   "execution_count": 14,
   "metadata": {},
   "outputs": [
    {
     "data": {
      "text/plain": [
       "0.9974242424242424"
      ]
     },
     "execution_count": 14,
     "metadata": {},
     "output_type": "execute_result"
    }
   ],
   "source": [
    "# SVM classifier\n",
    "from sklearn.svm import SVC\n",
    "\n",
    "# Applies StratifiedKFold with k = 5 and repeats process 33 times for statistical robustness\n",
    "resultados33 = []\n",
    "\n",
    "# 33-time loop\n",
    "for i in range(33):\n",
    "    kfold = StratifiedKFold(n_splits = 5, shuffle = True, random_state = i)\n",
    "    resultados1 = []\n",
    "    matriz1 = []\n",
    "    # k-Fold loop\n",
    "    for n_train, n_test in kfold.split(previsores, np.zeros(shape=(previsores.shape[0], 1))):\n",
    "        svm = SVC(kernel = 'linear', C = 10.0)\n",
    "        # Training model\n",
    "        svm.fit(previsores[n_train], label[n_train])\n",
    "        # Predicting\n",
    "        previsoes = svm.predict(previsores[n_test])\n",
    "        # Accuracy check\n",
    "        precisao = accuracy_score(label[n_test], previsoes)\n",
    "        matriz1.append(confusion_matrix(label[n_test], previsoes))\n",
    "        resultados1.append(precisao)\n",
    "    # Appending all the steps\n",
    "    resultados1 = np.asarray(resultados1)\n",
    "    media = resultados1.mean()\n",
    "    resultados33.append(media)\n",
    "    matriz_final = np.mean(matriz1, axis = 0)\n",
    "# Final results\n",
    "resultados33 = np.asarray(resultados33)\n",
    "\n",
    "# Enable to obtain processing time\n",
    "# end = time.time()\n",
    "# tempo = end - start\n",
    "\n",
    "# Enable to display classification mean and standard deviation\n",
    "resultados33.mean()\n",
    "# resultados33.std()"
   ]
  },
  {
   "cell_type": "code",
   "execution_count": 17,
   "metadata": {},
   "outputs": [
    {
     "data": {
      "text/plain": [
       "0.9973636363636365"
      ]
     },
     "execution_count": 17,
     "metadata": {},
     "output_type": "execute_result"
    }
   ],
   "source": [
    "# MLP classifier\n",
    "from sklearn.neural_network import MLPClassifier\n",
    "\n",
    "# Applies StratifiedKFold with k = 5 and repeats process 33 times for statistical robustness\n",
    "resultados33 = []\n",
    "\n",
    "# 33-time loop\n",
    "for i in range(33):\n",
    "    kfold = StratifiedKFold(n_splits = 5, shuffle = True, random_state = i)\n",
    "    resultados1 = []\n",
    "    matriz1 = []\n",
    "    # k-Fold loop\n",
    "    for n_train, n_test in kfold.split(previsores, np.zeros(shape=(previsores.shape[0], 1))):\n",
    "        nn3 = MLPClassifier(solver='lbfgs', hidden_layer_sizes = 6)\n",
    "        # Training model\n",
    "        nn3.fit(previsores[n_train], label[n_train])\n",
    "        # Predicting\n",
    "        previsoes = nn3.predict(previsores[n_test])\n",
    "        # Accuracy check\n",
    "        precisao = accuracy_score(label[n_test], previsoes)\n",
    "        matriz1.append(confusion_matrix(label[n_test], previsoes))\n",
    "        resultados1.append(precisao)\n",
    "    # Appending all the steps\n",
    "    resultados1 = np.asarray(resultados1)\n",
    "    media = resultados1.mean()\n",
    "    resultados33.append(media)\n",
    "    matriz_final = np.mean(matriz1, axis = 0)\n",
    "# Final results\n",
    "resultados33 = np.asarray(resultados33)\n",
    "\n",
    "# Enable to obtain processing time\n",
    "# end = time.time()\n",
    "# tempo = end - start\n",
    "\n",
    "# Enable to display classification mean and standard deviation\n",
    "resultados33.mean()\n",
    "# resultados33.std()"
   ]
  },
  {
   "cell_type": "code",
   "execution_count": null,
   "metadata": {},
   "outputs": [],
   "source": []
  }
 ],
 "metadata": {
  "kernelspec": {
   "display_name": "Python 3",
   "language": "python",
   "name": "python3"
  },
  "language_info": {
   "codemirror_mode": {
    "name": "ipython",
    "version": 3
   },
   "file_extension": ".py",
   "mimetype": "text/x-python",
   "name": "python",
   "nbconvert_exporter": "python",
   "pygments_lexer": "ipython3",
   "version": "3.7.0"
  }
 },
 "nbformat": 4,
 "nbformat_minor": 2
}
